{
 "cells": [
  {
   "cell_type": "markdown",
   "metadata": {},
   "source": [
    "## Testing model with New Data\n",
    "Now that we have successfully trained our model with a good accuracy, we can proceed to testing it out with new data. Let us first load the new data as well as the trained model."
   ]
  },
  {
   "cell_type": "code",
   "execution_count": 5,
   "metadata": {},
   "outputs": [
    {
     "name": "stdout",
     "output_type": "stream",
     "text": [
      "['pose_training.pdf', 'X.pkl', 'trained_model.json', 'Testing model.ipynb', 'trained_model.h5', 'Pose_data_with_keras.ipynb', '.ipynb_checkpoints', 'keras_NN', 'dataset_new.pkl', 'y.pkl', 'dataset.csv', 'labels.pkl', 'label_title.pkl']\n"
     ]
    }
   ],
   "source": [
    "import numpy as np\n",
    "from keras.models import load_model, Sequential\n",
    "from keras.layers import Dense\n",
    "import pickle\n",
    "\n",
    "model_file = 'trained_model.h5'\n",
    "newdata_file = 'dataset_new.pkl'\n",
    "import os\n",
    "print(os.listdir())\n",
    "# model = load_model(model_file)\n",
    "dataset = pickle.load(open(newdata_file, 'rb'))"
   ]
  },
  {
   "cell_type": "markdown",
   "metadata": {},
   "source": [
    "The model and "
   ]
  }
 ],
 "metadata": {
  "kernelspec": {
   "display_name": "Python 3",
   "language": "python",
   "name": "python3"
  },
  "language_info": {
   "codemirror_mode": {
    "name": "ipython",
    "version": 3
   },
   "file_extension": ".py",
   "mimetype": "text/x-python",
   "name": "python",
   "nbconvert_exporter": "python",
   "pygments_lexer": "ipython3",
   "version": "3.6.1"
  }
 },
 "nbformat": 4,
 "nbformat_minor": 2
}
